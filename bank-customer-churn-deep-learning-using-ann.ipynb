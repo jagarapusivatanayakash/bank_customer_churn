{
 "cells": [
  {
   "cell_type": "markdown",
   "id": "e983422b",
   "metadata": {
    "papermill": {
     "duration": 0.009512,
     "end_time": "2022-10-04T06:33:01.075545",
     "exception": false,
     "start_time": "2022-10-04T06:33:01.066033",
     "status": "completed"
    },
    "tags": []
   },
   "source": [
    "# Import the Libraries"
   ]
  },
  {
   "cell_type": "code",
   "execution_count": 1,
   "id": "2c1ba2ef",
   "metadata": {
    "execution": {
     "iopub.execute_input": "2022-10-04T06:33:01.093918Z",
     "iopub.status.busy": "2022-10-04T06:33:01.093486Z",
     "iopub.status.idle": "2022-10-04T06:33:01.104561Z",
     "shell.execute_reply": "2022-10-04T06:33:01.103791Z"
    },
    "papermill": {
     "duration": 0.022872,
     "end_time": "2022-10-04T06:33:01.106634",
     "exception": false,
     "start_time": "2022-10-04T06:33:01.083762",
     "status": "completed"
    },
    "tags": []
   },
   "outputs": [],
   "source": [
    "import pandas as pd\n",
    "import numpy as np\n",
    "import matplotlib.pyplot as plt\n",
    "%matplotlib inline"
   ]
  },
  {
   "cell_type": "markdown",
   "id": "5ccdc413",
   "metadata": {
    "papermill": {
     "duration": 0.007886,
     "end_time": "2022-10-04T06:33:01.122793",
     "exception": false,
     "start_time": "2022-10-04T06:33:01.114907",
     "status": "completed"
    },
    "tags": []
   },
   "source": [
    "# Import the dataset"
   ]
  },
  {
   "cell_type": "code",
   "execution_count": 2,
   "id": "5f5415f4",
   "metadata": {
    "execution": {
     "iopub.execute_input": "2022-10-04T06:33:01.140146Z",
     "iopub.status.busy": "2022-10-04T06:33:01.139715Z",
     "iopub.status.idle": "2022-10-04T06:33:01.184899Z",
     "shell.execute_reply": "2022-10-04T06:33:01.184018Z"
    },
    "papermill": {
     "duration": 0.056774,
     "end_time": "2022-10-04T06:33:01.187464",
     "exception": false,
     "start_time": "2022-10-04T06:33:01.130690",
     "status": "completed"
    },
    "tags": []
   },
   "outputs": [],
   "source": [
    "df=pd.read_csv('../input/bank-customer-churn-prediction/Churn_Modelling.csv')"
   ]
  },
  {
   "cell_type": "code",
   "execution_count": 3,
   "id": "68aca665",
   "metadata": {
    "execution": {
     "iopub.execute_input": "2022-10-04T06:33:01.205745Z",
     "iopub.status.busy": "2022-10-04T06:33:01.205163Z",
     "iopub.status.idle": "2022-10-04T06:33:01.237753Z",
     "shell.execute_reply": "2022-10-04T06:33:01.236912Z"
    },
    "papermill": {
     "duration": 0.044351,
     "end_time": "2022-10-04T06:33:01.240117",
     "exception": false,
     "start_time": "2022-10-04T06:33:01.195766",
     "status": "completed"
    },
    "tags": []
   },
   "outputs": [
    {
     "data": {
      "text/html": [
       "<div>\n",
       "<style scoped>\n",
       "    .dataframe tbody tr th:only-of-type {\n",
       "        vertical-align: middle;\n",
       "    }\n",
       "\n",
       "    .dataframe tbody tr th {\n",
       "        vertical-align: top;\n",
       "    }\n",
       "\n",
       "    .dataframe thead th {\n",
       "        text-align: right;\n",
       "    }\n",
       "</style>\n",
       "<table border=\"1\" class=\"dataframe\">\n",
       "  <thead>\n",
       "    <tr style=\"text-align: right;\">\n",
       "      <th></th>\n",
       "      <th>RowNumber</th>\n",
       "      <th>CustomerId</th>\n",
       "      <th>Surname</th>\n",
       "      <th>CreditScore</th>\n",
       "      <th>Geography</th>\n",
       "      <th>Gender</th>\n",
       "      <th>Age</th>\n",
       "      <th>Tenure</th>\n",
       "      <th>Balance</th>\n",
       "      <th>NumOfProducts</th>\n",
       "      <th>HasCrCard</th>\n",
       "      <th>IsActiveMember</th>\n",
       "      <th>EstimatedSalary</th>\n",
       "      <th>Exited</th>\n",
       "    </tr>\n",
       "  </thead>\n",
       "  <tbody>\n",
       "    <tr>\n",
       "      <th>0</th>\n",
       "      <td>1</td>\n",
       "      <td>15634602</td>\n",
       "      <td>Hargrave</td>\n",
       "      <td>619</td>\n",
       "      <td>France</td>\n",
       "      <td>Female</td>\n",
       "      <td>42</td>\n",
       "      <td>2</td>\n",
       "      <td>0.00</td>\n",
       "      <td>1</td>\n",
       "      <td>1</td>\n",
       "      <td>1</td>\n",
       "      <td>101348.88</td>\n",
       "      <td>1</td>\n",
       "    </tr>\n",
       "    <tr>\n",
       "      <th>1</th>\n",
       "      <td>2</td>\n",
       "      <td>15647311</td>\n",
       "      <td>Hill</td>\n",
       "      <td>608</td>\n",
       "      <td>Spain</td>\n",
       "      <td>Female</td>\n",
       "      <td>41</td>\n",
       "      <td>1</td>\n",
       "      <td>83807.86</td>\n",
       "      <td>1</td>\n",
       "      <td>0</td>\n",
       "      <td>1</td>\n",
       "      <td>112542.58</td>\n",
       "      <td>0</td>\n",
       "    </tr>\n",
       "    <tr>\n",
       "      <th>2</th>\n",
       "      <td>3</td>\n",
       "      <td>15619304</td>\n",
       "      <td>Onio</td>\n",
       "      <td>502</td>\n",
       "      <td>France</td>\n",
       "      <td>Female</td>\n",
       "      <td>42</td>\n",
       "      <td>8</td>\n",
       "      <td>159660.80</td>\n",
       "      <td>3</td>\n",
       "      <td>1</td>\n",
       "      <td>0</td>\n",
       "      <td>113931.57</td>\n",
       "      <td>1</td>\n",
       "    </tr>\n",
       "    <tr>\n",
       "      <th>3</th>\n",
       "      <td>4</td>\n",
       "      <td>15701354</td>\n",
       "      <td>Boni</td>\n",
       "      <td>699</td>\n",
       "      <td>France</td>\n",
       "      <td>Female</td>\n",
       "      <td>39</td>\n",
       "      <td>1</td>\n",
       "      <td>0.00</td>\n",
       "      <td>2</td>\n",
       "      <td>0</td>\n",
       "      <td>0</td>\n",
       "      <td>93826.63</td>\n",
       "      <td>0</td>\n",
       "    </tr>\n",
       "    <tr>\n",
       "      <th>4</th>\n",
       "      <td>5</td>\n",
       "      <td>15737888</td>\n",
       "      <td>Mitchell</td>\n",
       "      <td>850</td>\n",
       "      <td>Spain</td>\n",
       "      <td>Female</td>\n",
       "      <td>43</td>\n",
       "      <td>2</td>\n",
       "      <td>125510.82</td>\n",
       "      <td>1</td>\n",
       "      <td>1</td>\n",
       "      <td>1</td>\n",
       "      <td>79084.10</td>\n",
       "      <td>0</td>\n",
       "    </tr>\n",
       "  </tbody>\n",
       "</table>\n",
       "</div>"
      ],
      "text/plain": [
       "   RowNumber  CustomerId   Surname  CreditScore Geography  Gender  Age  \\\n",
       "0          1    15634602  Hargrave          619    France  Female   42   \n",
       "1          2    15647311      Hill          608     Spain  Female   41   \n",
       "2          3    15619304      Onio          502    France  Female   42   \n",
       "3          4    15701354      Boni          699    France  Female   39   \n",
       "4          5    15737888  Mitchell          850     Spain  Female   43   \n",
       "\n",
       "   Tenure    Balance  NumOfProducts  HasCrCard  IsActiveMember  \\\n",
       "0       2       0.00              1          1               1   \n",
       "1       1   83807.86              1          0               1   \n",
       "2       8  159660.80              3          1               0   \n",
       "3       1       0.00              2          0               0   \n",
       "4       2  125510.82              1          1               1   \n",
       "\n",
       "   EstimatedSalary  Exited  \n",
       "0        101348.88       1  \n",
       "1        112542.58       0  \n",
       "2        113931.57       1  \n",
       "3         93826.63       0  \n",
       "4         79084.10       0  "
      ]
     },
     "execution_count": 3,
     "metadata": {},
     "output_type": "execute_result"
    }
   ],
   "source": [
    "df.head()"
   ]
  },
  {
   "cell_type": "markdown",
   "id": "2cac60bf",
   "metadata": {
    "papermill": {
     "duration": 0.008115,
     "end_time": "2022-10-04T06:33:01.258406",
     "exception": false,
     "start_time": "2022-10-04T06:33:01.250291",
     "status": "completed"
    },
    "tags": []
   },
   "source": [
    "# EDA\n",
    "\n",
    "\n",
    "# Firstly Drops RowNumber,CustomerId,Surname these columns"
   ]
  },
  {
   "cell_type": "code",
   "execution_count": 4,
   "id": "3f59d152",
   "metadata": {
    "execution": {
     "iopub.execute_input": "2022-10-04T06:33:01.277405Z",
     "iopub.status.busy": "2022-10-04T06:33:01.276763Z",
     "iopub.status.idle": "2022-10-04T06:33:01.287624Z",
     "shell.execute_reply": "2022-10-04T06:33:01.286828Z"
    },
    "papermill": {
     "duration": 0.023092,
     "end_time": "2022-10-04T06:33:01.289946",
     "exception": false,
     "start_time": "2022-10-04T06:33:01.266854",
     "status": "completed"
    },
    "tags": []
   },
   "outputs": [],
   "source": [
    "df.drop(columns = ['RowNumber','CustomerId','Surname'], inplace= True )"
   ]
  },
  {
   "cell_type": "code",
   "execution_count": 5,
   "id": "b0a6ef0b",
   "metadata": {
    "execution": {
     "iopub.execute_input": "2022-10-04T06:33:01.311229Z",
     "iopub.status.busy": "2022-10-04T06:33:01.310852Z",
     "iopub.status.idle": "2022-10-04T06:33:01.321515Z",
     "shell.execute_reply": "2022-10-04T06:33:01.319969Z"
    },
    "papermill": {
     "duration": 0.025604,
     "end_time": "2022-10-04T06:33:01.324303",
     "exception": false,
     "start_time": "2022-10-04T06:33:01.298699",
     "status": "completed"
    },
    "tags": []
   },
   "outputs": [
    {
     "data": {
      "text/plain": [
       "CreditScore        0\n",
       "Geography          0\n",
       "Gender             0\n",
       "Age                0\n",
       "Tenure             0\n",
       "Balance            0\n",
       "NumOfProducts      0\n",
       "HasCrCard          0\n",
       "IsActiveMember     0\n",
       "EstimatedSalary    0\n",
       "Exited             0\n",
       "dtype: int64"
      ]
     },
     "execution_count": 5,
     "metadata": {},
     "output_type": "execute_result"
    }
   ],
   "source": [
    "df.isnull().sum()"
   ]
  },
  {
   "cell_type": "code",
   "execution_count": 6,
   "id": "e4cdf5ee",
   "metadata": {
    "execution": {
     "iopub.execute_input": "2022-10-04T06:33:01.344481Z",
     "iopub.status.busy": "2022-10-04T06:33:01.343417Z",
     "iopub.status.idle": "2022-10-04T06:33:01.371648Z",
     "shell.execute_reply": "2022-10-04T06:33:01.369868Z"
    },
    "papermill": {
     "duration": 0.043112,
     "end_time": "2022-10-04T06:33:01.376057",
     "exception": false,
     "start_time": "2022-10-04T06:33:01.332945",
     "status": "completed"
    },
    "tags": []
   },
   "outputs": [
    {
     "data": {
      "text/html": [
       "<div>\n",
       "<style scoped>\n",
       "    .dataframe tbody tr th:only-of-type {\n",
       "        vertical-align: middle;\n",
       "    }\n",
       "\n",
       "    .dataframe tbody tr th {\n",
       "        vertical-align: top;\n",
       "    }\n",
       "\n",
       "    .dataframe thead th {\n",
       "        text-align: right;\n",
       "    }\n",
       "</style>\n",
       "<table border=\"1\" class=\"dataframe\">\n",
       "  <thead>\n",
       "    <tr style=\"text-align: right;\">\n",
       "      <th></th>\n",
       "      <th>CreditScore</th>\n",
       "      <th>Age</th>\n",
       "      <th>Tenure</th>\n",
       "      <th>Balance</th>\n",
       "      <th>NumOfProducts</th>\n",
       "      <th>HasCrCard</th>\n",
       "      <th>IsActiveMember</th>\n",
       "      <th>EstimatedSalary</th>\n",
       "      <th>Exited</th>\n",
       "    </tr>\n",
       "  </thead>\n",
       "  <tbody>\n",
       "    <tr>\n",
       "      <th>CreditScore</th>\n",
       "      <td>1.000000</td>\n",
       "      <td>-0.003965</td>\n",
       "      <td>0.000842</td>\n",
       "      <td>0.006268</td>\n",
       "      <td>0.012238</td>\n",
       "      <td>-0.005458</td>\n",
       "      <td>0.025651</td>\n",
       "      <td>-0.001384</td>\n",
       "      <td>-0.027094</td>\n",
       "    </tr>\n",
       "    <tr>\n",
       "      <th>Age</th>\n",
       "      <td>-0.003965</td>\n",
       "      <td>1.000000</td>\n",
       "      <td>-0.009997</td>\n",
       "      <td>0.028308</td>\n",
       "      <td>-0.030680</td>\n",
       "      <td>-0.011721</td>\n",
       "      <td>0.085472</td>\n",
       "      <td>-0.007201</td>\n",
       "      <td>0.285323</td>\n",
       "    </tr>\n",
       "    <tr>\n",
       "      <th>Tenure</th>\n",
       "      <td>0.000842</td>\n",
       "      <td>-0.009997</td>\n",
       "      <td>1.000000</td>\n",
       "      <td>-0.012254</td>\n",
       "      <td>0.013444</td>\n",
       "      <td>0.022583</td>\n",
       "      <td>-0.028362</td>\n",
       "      <td>0.007784</td>\n",
       "      <td>-0.014001</td>\n",
       "    </tr>\n",
       "    <tr>\n",
       "      <th>Balance</th>\n",
       "      <td>0.006268</td>\n",
       "      <td>0.028308</td>\n",
       "      <td>-0.012254</td>\n",
       "      <td>1.000000</td>\n",
       "      <td>-0.304180</td>\n",
       "      <td>-0.014858</td>\n",
       "      <td>-0.010084</td>\n",
       "      <td>0.012797</td>\n",
       "      <td>0.118533</td>\n",
       "    </tr>\n",
       "    <tr>\n",
       "      <th>NumOfProducts</th>\n",
       "      <td>0.012238</td>\n",
       "      <td>-0.030680</td>\n",
       "      <td>0.013444</td>\n",
       "      <td>-0.304180</td>\n",
       "      <td>1.000000</td>\n",
       "      <td>0.003183</td>\n",
       "      <td>0.009612</td>\n",
       "      <td>0.014204</td>\n",
       "      <td>-0.047820</td>\n",
       "    </tr>\n",
       "    <tr>\n",
       "      <th>HasCrCard</th>\n",
       "      <td>-0.005458</td>\n",
       "      <td>-0.011721</td>\n",
       "      <td>0.022583</td>\n",
       "      <td>-0.014858</td>\n",
       "      <td>0.003183</td>\n",
       "      <td>1.000000</td>\n",
       "      <td>-0.011866</td>\n",
       "      <td>-0.009933</td>\n",
       "      <td>-0.007138</td>\n",
       "    </tr>\n",
       "    <tr>\n",
       "      <th>IsActiveMember</th>\n",
       "      <td>0.025651</td>\n",
       "      <td>0.085472</td>\n",
       "      <td>-0.028362</td>\n",
       "      <td>-0.010084</td>\n",
       "      <td>0.009612</td>\n",
       "      <td>-0.011866</td>\n",
       "      <td>1.000000</td>\n",
       "      <td>-0.011421</td>\n",
       "      <td>-0.156128</td>\n",
       "    </tr>\n",
       "    <tr>\n",
       "      <th>EstimatedSalary</th>\n",
       "      <td>-0.001384</td>\n",
       "      <td>-0.007201</td>\n",
       "      <td>0.007784</td>\n",
       "      <td>0.012797</td>\n",
       "      <td>0.014204</td>\n",
       "      <td>-0.009933</td>\n",
       "      <td>-0.011421</td>\n",
       "      <td>1.000000</td>\n",
       "      <td>0.012097</td>\n",
       "    </tr>\n",
       "    <tr>\n",
       "      <th>Exited</th>\n",
       "      <td>-0.027094</td>\n",
       "      <td>0.285323</td>\n",
       "      <td>-0.014001</td>\n",
       "      <td>0.118533</td>\n",
       "      <td>-0.047820</td>\n",
       "      <td>-0.007138</td>\n",
       "      <td>-0.156128</td>\n",
       "      <td>0.012097</td>\n",
       "      <td>1.000000</td>\n",
       "    </tr>\n",
       "  </tbody>\n",
       "</table>\n",
       "</div>"
      ],
      "text/plain": [
       "                 CreditScore       Age    Tenure   Balance  NumOfProducts  \\\n",
       "CreditScore         1.000000 -0.003965  0.000842  0.006268       0.012238   \n",
       "Age                -0.003965  1.000000 -0.009997  0.028308      -0.030680   \n",
       "Tenure              0.000842 -0.009997  1.000000 -0.012254       0.013444   \n",
       "Balance             0.006268  0.028308 -0.012254  1.000000      -0.304180   \n",
       "NumOfProducts       0.012238 -0.030680  0.013444 -0.304180       1.000000   \n",
       "HasCrCard          -0.005458 -0.011721  0.022583 -0.014858       0.003183   \n",
       "IsActiveMember      0.025651  0.085472 -0.028362 -0.010084       0.009612   \n",
       "EstimatedSalary    -0.001384 -0.007201  0.007784  0.012797       0.014204   \n",
       "Exited             -0.027094  0.285323 -0.014001  0.118533      -0.047820   \n",
       "\n",
       "                 HasCrCard  IsActiveMember  EstimatedSalary    Exited  \n",
       "CreditScore      -0.005458        0.025651        -0.001384 -0.027094  \n",
       "Age              -0.011721        0.085472        -0.007201  0.285323  \n",
       "Tenure            0.022583       -0.028362         0.007784 -0.014001  \n",
       "Balance          -0.014858       -0.010084         0.012797  0.118533  \n",
       "NumOfProducts     0.003183        0.009612         0.014204 -0.047820  \n",
       "HasCrCard         1.000000       -0.011866        -0.009933 -0.007138  \n",
       "IsActiveMember   -0.011866        1.000000        -0.011421 -0.156128  \n",
       "EstimatedSalary  -0.009933       -0.011421         1.000000  0.012097  \n",
       "Exited           -0.007138       -0.156128         0.012097  1.000000  "
      ]
     },
     "execution_count": 6,
     "metadata": {},
     "output_type": "execute_result"
    }
   ],
   "source": [
    "df.corr()"
   ]
  },
  {
   "cell_type": "code",
   "execution_count": 7,
   "id": "c2bc3cea",
   "metadata": {
    "execution": {
     "iopub.execute_input": "2022-10-04T06:33:01.396361Z",
     "iopub.status.busy": "2022-10-04T06:33:01.395496Z",
     "iopub.status.idle": "2022-10-04T06:33:03.172714Z",
     "shell.execute_reply": "2022-10-04T06:33:03.171794Z"
    },
    "papermill": {
     "duration": 1.789928,
     "end_time": "2022-10-04T06:33:03.174954",
     "exception": false,
     "start_time": "2022-10-04T06:33:01.385026",
     "status": "completed"
    },
    "tags": []
   },
   "outputs": [
    {
     "data": {
      "text/plain": [
       "<AxesSubplot:>"
      ]
     },
     "execution_count": 7,
     "metadata": {},
     "output_type": "execute_result"
    },
    {
     "data": {
      "image/png": "[encoded data removed]",
      "text/plain": [
       "<Figure size 720x360 with 2 Axes>"
      ]
     },
     "metadata": {
      "needs_background": "light"
     },
     "output_type": "display_data"
    }
   ],
   "source": [
    "import seaborn as sns\n",
    "#Calculating correlation between each pair of variables\n",
    "corr_matrix=df.corr()\n",
    " \n",
    "#Creating a seaborn heatmap\n",
    "plt.figure(1, figsize=(10,5))\n",
    "sns.heatmap(corr_matrix, cmap='BrBG', center=0, annot=True)\n"
   ]
  },
  {
   "cell_type": "code",
   "execution_count": 8,
   "id": "9fa63df8",
   "metadata": {
    "execution": {
     "iopub.execute_input": "2022-10-04T06:33:03.197213Z",
     "iopub.status.busy": "2022-10-04T06:33:03.196409Z",
     "iopub.status.idle": "2022-10-04T06:33:03.223628Z",
     "shell.execute_reply": "2022-10-04T06:33:03.222533Z"
    },
    "papermill": {
     "duration": 0.040887,
     "end_time": "2022-10-04T06:33:03.226081",
     "exception": false,
     "start_time": "2022-10-04T06:33:03.185194",
     "status": "completed"
    },
    "tags": []
   },
   "outputs": [
    {
     "name": "stdout",
     "output_type": "stream",
     "text": [
      "<class 'pandas.core.frame.DataFrame'>\n",
      "RangeIndex: 10000 entries, 0 to 9999\n",
      "Data columns (total 11 columns):\n",
      " #   Column           Non-Null Count  Dtype  \n",
      "---  ------           --------------  -----  \n",
      " 0   CreditScore      10000 non-null  int64  \n",
      " 1   Geography        10000 non-null  object \n",
      " 2   Gender           10000 non-null  object \n",
      " 3   Age              10000 non-null  int64  \n",
      " 4   Tenure           10000 non-null  int64  \n",
      " 5   Balance          10000 non-null  float64\n",
      " 6   NumOfProducts    10000 non-null  int64  \n",
      " 7   HasCrCard        10000 non-null  int64  \n",
      " 8   IsActiveMember   10000 non-null  int64  \n",
      " 9   EstimatedSalary  10000 non-null  float64\n",
      " 10  Exited           10000 non-null  int64  \n",
      "dtypes: float64(2), int64(7), object(2)\n",
      "memory usage: 859.5+ KB\n"
     ]
    }
   ],
   "source": [
    "df.info()"
   ]
  },
  {
   "cell_type": "markdown",
   "id": "1cc75c3f",
   "metadata": {
    "papermill": {
     "duration": 0.009761,
     "end_time": "2022-10-04T06:33:03.245973",
     "exception": false,
     "start_time": "2022-10-04T06:33:03.236212",
     "status": "completed"
    },
    "tags": []
   },
   "source": [
    "# Encoding the Categorical data"
   ]
  },
  {
   "cell_type": "code",
   "execution_count": 9,
   "id": "650749dc",
   "metadata": {
    "execution": {
     "iopub.execute_input": "2022-10-04T06:33:03.267520Z",
     "iopub.status.busy": "2022-10-04T06:33:03.267135Z",
     "iopub.status.idle": "2022-10-04T06:33:03.410123Z",
     "shell.execute_reply": "2022-10-04T06:33:03.408899Z"
    },
    "papermill": {
     "duration": 0.156819,
     "end_time": "2022-10-04T06:33:03.412766",
     "exception": false,
     "start_time": "2022-10-04T06:33:03.255947",
     "status": "completed"
    },
    "tags": []
   },
   "outputs": [],
   "source": [
    "from sklearn import preprocessing\n",
    "lable_encode=preprocessing.LabelEncoder()\n",
    "df['Gender']=lable_encode.fit_transform(df['Gender'])\n",
    "df['Geography']=lable_encode.fit_transform(df['Geography'])"
   ]
  },
  {
   "cell_type": "code",
   "execution_count": 10,
   "id": "6899a2eb",
   "metadata": {
    "execution": {
     "iopub.execute_input": "2022-10-04T06:33:03.436021Z",
     "iopub.status.busy": "2022-10-04T06:33:03.435370Z",
     "iopub.status.idle": "2022-10-04T06:33:03.450304Z",
     "shell.execute_reply": "2022-10-04T06:33:03.449193Z"
    },
    "papermill": {
     "duration": 0.028944,
     "end_time": "2022-10-04T06:33:03.452642",
     "exception": false,
     "start_time": "2022-10-04T06:33:03.423698",
     "status": "completed"
    },
    "tags": []
   },
   "outputs": [
    {
     "data": {
      "text/html": [
       "<div>\n",
       "<style scoped>\n",
       "    .dataframe tbody tr th:only-of-type {\n",
       "        vertical-align: middle;\n",
       "    }\n",
       "\n",
       "    .dataframe tbody tr th {\n",
       "        vertical-align: top;\n",
       "    }\n",
       "\n",
       "    .dataframe thead th {\n",
       "        text-align: right;\n",
       "    }\n",
       "</style>\n",
       "<table border=\"1\" class=\"dataframe\">\n",
       "  <thead>\n",
       "    <tr style=\"text-align: right;\">\n",
       "      <th></th>\n",
       "      <th>CreditScore</th>\n",
       "      <th>Geography</th>\n",
       "      <th>Gender</th>\n",
       "      <th>Age</th>\n",
       "      <th>Tenure</th>\n",
       "      <th>Balance</th>\n",
       "      <th>NumOfProducts</th>\n",
       "      <th>HasCrCard</th>\n",
       "      <th>IsActiveMember</th>\n",
       "      <th>EstimatedSalary</th>\n",
       "      <th>Exited</th>\n",
       "    </tr>\n",
       "  </thead>\n",
       "  <tbody>\n",
       "    <tr>\n",
       "      <th>0</th>\n",
       "      <td>619</td>\n",
       "      <td>0</td>\n",
       "      <td>0</td>\n",
       "      <td>42</td>\n",
       "      <td>2</td>\n",
       "      <td>0.00</td>\n",
       "      <td>1</td>\n",
       "      <td>1</td>\n",
       "      <td>1</td>\n",
       "      <td>101348.88</td>\n",
       "      <td>1</td>\n",
       "    </tr>\n",
       "    <tr>\n",
       "      <th>1</th>\n",
       "      <td>608</td>\n",
       "      <td>2</td>\n",
       "      <td>0</td>\n",
       "      <td>41</td>\n",
       "      <td>1</td>\n",
       "      <td>83807.86</td>\n",
       "      <td>1</td>\n",
       "      <td>0</td>\n",
       "      <td>1</td>\n",
       "      <td>112542.58</td>\n",
       "      <td>0</td>\n",
       "    </tr>\n",
       "    <tr>\n",
       "      <th>2</th>\n",
       "      <td>502</td>\n",
       "      <td>0</td>\n",
       "      <td>0</td>\n",
       "      <td>42</td>\n",
       "      <td>8</td>\n",
       "      <td>159660.80</td>\n",
       "      <td>3</td>\n",
       "      <td>1</td>\n",
       "      <td>0</td>\n",
       "      <td>113931.57</td>\n",
       "      <td>1</td>\n",
       "    </tr>\n",
       "    <tr>\n",
       "      <th>3</th>\n",
       "      <td>699</td>\n",
       "      <td>0</td>\n",
       "      <td>0</td>\n",
       "      <td>39</td>\n",
       "      <td>1</td>\n",
       "      <td>0.00</td>\n",
       "      <td>2</td>\n",
       "      <td>0</td>\n",
       "      <td>0</td>\n",
       "      <td>93826.63</td>\n",
       "      <td>0</td>\n",
       "    </tr>\n",
       "    <tr>\n",
       "      <th>4</th>\n",
       "      <td>850</td>\n",
       "      <td>2</td>\n",
       "      <td>0</td>\n",
       "      <td>43</td>\n",
       "      <td>2</td>\n",
       "      <td>125510.82</td>\n",
       "      <td>1</td>\n",
       "      <td>1</td>\n",
       "      <td>1</td>\n",
       "      <td>79084.10</td>\n",
       "      <td>0</td>\n",
       "    </tr>\n",
       "  </tbody>\n",
       "</table>\n",
       "</div>"
      ],
      "text/plain": [
       "   CreditScore  Geography  Gender  Age  Tenure    Balance  NumOfProducts  \\\n",
       "0          619          0       0   42       2       0.00              1   \n",
       "1          608          2       0   41       1   83807.86              1   \n",
       "2          502          0       0   42       8  159660.80              3   \n",
       "3          699          0       0   39       1       0.00              2   \n",
       "4          850          2       0   43       2  125510.82              1   \n",
       "\n",
       "   HasCrCard  IsActiveMember  EstimatedSalary  Exited  \n",
       "0          1               1        101348.88       1  \n",
       "1          0               1        112542.58       0  \n",
       "2          1               0        113931.57       1  \n",
       "3          0               0         93826.63       0  \n",
       "4          1               1         79084.10       0  "
      ]
     },
     "execution_count": 10,
     "metadata": {},
     "output_type": "execute_result"
    }
   ],
   "source": [
    "df.head()"
   ]
  },
  {
   "cell_type": "code",
   "execution_count": 11,
   "id": "d0d99e7f",
   "metadata": {
    "execution": {
     "iopub.execute_input": "2022-10-04T06:33:03.475897Z",
     "iopub.status.busy": "2022-10-04T06:33:03.475177Z",
     "iopub.status.idle": "2022-10-04T06:33:03.482812Z",
     "shell.execute_reply": "2022-10-04T06:33:03.481811Z"
    },
    "papermill": {
     "duration": 0.021904,
     "end_time": "2022-10-04T06:33:03.485310",
     "exception": false,
     "start_time": "2022-10-04T06:33:03.463406",
     "status": "completed"
    },
    "tags": []
   },
   "outputs": [],
   "source": [
    "X=df.drop(columns=['Exited'])\n",
    "y=df['Exited']"
   ]
  },
  {
   "cell_type": "markdown",
   "id": "a06ca05e",
   "metadata": {
    "papermill": {
     "duration": 0.010092,
     "end_time": "2022-10-04T06:33:03.505933",
     "exception": false,
     "start_time": "2022-10-04T06:33:03.495841",
     "status": "completed"
    },
    "tags": []
   },
   "source": [
    "# Split the dataset into train test split using sklearn lib"
   ]
  },
  {
   "cell_type": "code",
   "execution_count": 12,
   "id": "a418b74d",
   "metadata": {
    "execution": {
     "iopub.execute_input": "2022-10-04T06:33:03.528724Z",
     "iopub.status.busy": "2022-10-04T06:33:03.527769Z",
     "iopub.status.idle": "2022-10-04T06:33:03.587290Z",
     "shell.execute_reply": "2022-10-04T06:33:03.586404Z"
    },
    "papermill": {
     "duration": 0.073509,
     "end_time": "2022-10-04T06:33:03.589765",
     "exception": false,
     "start_time": "2022-10-04T06:33:03.516256",
     "status": "completed"
    },
    "tags": []
   },
   "outputs": [],
   "source": [
    "from sklearn.model_selection import train_test_split\n",
    "X_train,X_test,y_train,y_test=train_test_split(X,y,test_size=0.25,random_state=3)"
   ]
  },
  {
   "cell_type": "markdown",
   "id": "11f40330",
   "metadata": {
    "papermill": {
     "duration": 0.010134,
     "end_time": "2022-10-04T06:33:03.610844",
     "exception": false,
     "start_time": "2022-10-04T06:33:03.600710",
     "status": "completed"
    },
    "tags": []
   },
   "source": [
    "# Feature Scaling"
   ]
  },
  {
   "cell_type": "code",
   "execution_count": 13,
   "id": "e61c7759",
   "metadata": {
    "execution": {
     "iopub.execute_input": "2022-10-04T06:33:03.633078Z",
     "iopub.status.busy": "2022-10-04T06:33:03.632649Z",
     "iopub.status.idle": "2022-10-04T06:33:03.645659Z",
     "shell.execute_reply": "2022-10-04T06:33:03.644835Z"
    },
    "papermill": {
     "duration": 0.026916,
     "end_time": "2022-10-04T06:33:03.647845",
     "exception": false,
     "start_time": "2022-10-04T06:33:03.620929",
     "status": "completed"
    },
    "tags": []
   },
   "outputs": [],
   "source": [
    "from sklearn.preprocessing import StandardScaler\n",
    "sc=StandardScaler()\n",
    "X_train=sc.fit_transform(X_train)\n",
    "X_test=sc.transform(X_test)"
   ]
  },
  {
   "cell_type": "markdown",
   "id": "e21f01f7",
   "metadata": {
    "papermill": {
     "duration": 0.010023,
     "end_time": "2022-10-04T06:33:03.668693",
     "exception": false,
     "start_time": "2022-10-04T06:33:03.658670",
     "status": "completed"
    },
    "tags": []
   },
   "source": [
    "# Building our Model\n",
    "In this part, we model our Artificial Neural Network model"
   ]
  },
  {
   "cell_type": "code",
   "execution_count": 14,
   "id": "b5d58512",
   "metadata": {
    "execution": {
     "iopub.execute_input": "2022-10-04T06:33:03.691244Z",
     "iopub.status.busy": "2022-10-04T06:33:03.690364Z",
     "iopub.status.idle": "2022-10-04T06:33:09.348910Z",
     "shell.execute_reply": "2022-10-04T06:33:09.347587Z"
    },
    "papermill": {
     "duration": 5.672698,
     "end_time": "2022-10-04T06:33:09.351639",
     "exception": false,
     "start_time": "2022-10-04T06:33:03.678941",
     "status": "completed"
    },
    "tags": []
   },
   "outputs": [],
   "source": [
    "import tensorflow \n",
    "from tensorflow import keras\n",
    "from tensorflow.keras import Sequential\n",
    "from tensorflow.keras.layers import Dense"
   ]
  },
  {
   "cell_type": "code",
   "execution_count": 15,
   "id": "0b1af724",
   "metadata": {
    "execution": {
     "iopub.execute_input": "2022-10-04T06:33:09.374568Z",
     "iopub.status.busy": "2022-10-04T06:33:09.373902Z",
     "iopub.status.idle": "2022-10-04T06:33:09.429431Z",
     "shell.execute_reply": "2022-10-04T06:33:09.427834Z"
    },
    "papermill": {
     "duration": 0.069549,
     "end_time": "2022-10-04T06:33:09.431696",
     "exception": false,
     "start_time": "2022-10-04T06:33:09.362147",
     "status": "completed"
    },
    "tags": []
   },
   "outputs": [
    {
     "name": "stderr",
     "output_type": "stream",
     "text": [
      "2022-10-04 06:33:09.407612: I tensorflow/core/common_runtime/process_util.cc:146] Creating new thread pool with default inter op setting: 2. Tune using inter_op_parallelism_threads for best performance.\n"
     ]
    }
   ],
   "source": [
    "# initializing the ANN model\n",
    "classifier=Sequential()"
   ]
  },
  {
   "cell_type": "code",
   "execution_count": 16,
   "id": "b262e27a",
   "metadata": {
    "execution": {
     "iopub.execute_input": "2022-10-04T06:33:09.454886Z",
     "iopub.status.busy": "2022-10-04T06:33:09.454107Z",
     "iopub.status.idle": "2022-10-04T06:33:09.517987Z",
     "shell.execute_reply": "2022-10-04T06:33:09.516833Z"
    },
    "papermill": {
     "duration": 0.07847,
     "end_time": "2022-10-04T06:33:09.520624",
     "exception": false,
     "start_time": "2022-10-04T06:33:09.442154",
     "status": "completed"
    },
    "tags": []
   },
   "outputs": [],
   "source": [
    "classifier.add(Dense(6, activation = 'relu',input_dim=10))\n",
    "classifier.add(Dense(6,activation='relu'))\n",
    "classifier.add(Dense(1,activation='sigmoid'))"
   ]
  },
  {
   "cell_type": "code",
   "execution_count": 17,
   "id": "697c4a53",
   "metadata": {
    "execution": {
     "iopub.execute_input": "2022-10-04T06:33:09.543133Z",
     "iopub.status.busy": "2022-10-04T06:33:09.542730Z",
     "iopub.status.idle": "2022-10-04T06:33:09.556267Z",
     "shell.execute_reply": "2022-10-04T06:33:09.555264Z"
    },
    "papermill": {
     "duration": 0.02742,
     "end_time": "2022-10-04T06:33:09.558460",
     "exception": false,
     "start_time": "2022-10-04T06:33:09.531040",
     "status": "completed"
    },
    "tags": []
   },
   "outputs": [],
   "source": [
    "classifier.compile(optimizer='adam',loss='binary_crossentropy',metrics=['accuracy'])"
   ]
  },
  {
   "cell_type": "code",
   "execution_count": 18,
   "id": "dbe2310c",
   "metadata": {
    "execution": {
     "iopub.execute_input": "2022-10-04T06:33:09.581455Z",
     "iopub.status.busy": "2022-10-04T06:33:09.580802Z",
     "iopub.status.idle": "2022-10-04T06:33:09.587030Z",
     "shell.execute_reply": "2022-10-04T06:33:09.585637Z"
    },
    "papermill": {
     "duration": 0.020382,
     "end_time": "2022-10-04T06:33:09.589357",
     "exception": false,
     "start_time": "2022-10-04T06:33:09.568975",
     "status": "completed"
    },
    "tags": []
   },
   "outputs": [
    {
     "name": "stdout",
     "output_type": "stream",
     "text": [
      "Model: \"sequential\"\n",
      "_________________________________________________________________\n",
      "Layer (type)                 Output Shape              Param #   \n",
      "=================================================================\n",
      "dense (Dense)                (None, 6)                 66        \n",
      "_________________________________________________________________\n",
      "dense_1 (Dense)              (None, 6)                 42        \n",
      "_________________________________________________________________\n",
      "dense_2 (Dense)              (None, 1)                 7         \n",
      "=================================================================\n",
      "Total params: 115\n",
      "Trainable params: 115\n",
      "Non-trainable params: 0\n",
      "_________________________________________________________________\n"
     ]
    }
   ],
   "source": [
    "classifier.summary()"
   ]
  },
  {
   "cell_type": "code",
   "execution_count": 19,
   "id": "e90647fc",
   "metadata": {
    "execution": {
     "iopub.execute_input": "2022-10-04T06:33:09.612654Z",
     "iopub.status.busy": "2022-10-04T06:33:09.611500Z",
     "iopub.status.idle": "2022-10-04T06:35:32.268196Z",
     "shell.execute_reply": "2022-10-04T06:35:32.266729Z"
    },
    "papermill": {
     "duration": 142.671314,
     "end_time": "2022-10-04T06:35:32.271174",
     "exception": false,
     "start_time": "2022-10-04T06:33:09.599860",
     "status": "completed"
    },
    "tags": []
   },
   "outputs": [
    {
     "name": "stdout",
     "output_type": "stream",
     "text": [
      "Epoch 1/100\n"
     ]
    },
    {
     "name": "stderr",
     "output_type": "stream",
     "text": [
      "2022-10-04 06:33:09.697662: I tensorflow/compiler/mlir/mlir_graph_optimization_pass.cc:185] None of the MLIR Optimization Passes are enabled (registered 2)\n"
     ]
    },
    {
     "name": "stdout",
     "output_type": "stream",
     "text": [
      "563/563 [==============================] - 2s 2ms/step - loss: 0.5410 - accuracy: 0.7422 - val_loss: 0.4651 - val_accuracy: 0.8027\n",
      "Epoch 2/100\n",
      "563/563 [==============================] - 1s 2ms/step - loss: 0.4531 - accuracy: 0.7957 - val_loss: 0.4407 - val_accuracy: 0.8027\n",
      "Epoch 3/100\n",
      "563/563 [==============================] - 1s 2ms/step - loss: 0.4363 - accuracy: 0.7959 - val_loss: 0.4300 - val_accuracy: 0.8032\n",
      "Epoch 4/100\n",
      "563/563 [==============================] - 1s 2ms/step - loss: 0.4266 - accuracy: 0.7979 - val_loss: 0.4220 - val_accuracy: 0.8117\n",
      "Epoch 5/100\n",
      "563/563 [==============================] - 1s 2ms/step - loss: 0.4186 - accuracy: 0.8028 - val_loss: 0.4132 - val_accuracy: 0.8181\n",
      "Epoch 6/100\n",
      "563/563 [==============================] - 1s 2ms/step - loss: 0.4094 - accuracy: 0.8228 - val_loss: 0.4035 - val_accuracy: 0.8363\n",
      "Epoch 7/100\n",
      "563/563 [==============================] - 1s 2ms/step - loss: 0.3977 - accuracy: 0.8336 - val_loss: 0.3931 - val_accuracy: 0.8405\n",
      "Epoch 8/100\n",
      "563/563 [==============================] - 1s 2ms/step - loss: 0.3857 - accuracy: 0.8411 - val_loss: 0.3842 - val_accuracy: 0.8485\n",
      "Epoch 9/100\n",
      "563/563 [==============================] - 1s 2ms/step - loss: 0.3761 - accuracy: 0.8491 - val_loss: 0.3773 - val_accuracy: 0.8480\n",
      "Epoch 10/100\n",
      "563/563 [==============================] - 1s 2ms/step - loss: 0.3694 - accuracy: 0.8514 - val_loss: 0.3723 - val_accuracy: 0.8469\n",
      "Epoch 11/100\n",
      "563/563 [==============================] - 1s 2ms/step - loss: 0.3643 - accuracy: 0.8533 - val_loss: 0.3699 - val_accuracy: 0.8485\n",
      "Epoch 12/100\n",
      "563/563 [==============================] - 1s 2ms/step - loss: 0.3611 - accuracy: 0.8528 - val_loss: 0.3681 - val_accuracy: 0.8507\n",
      "Epoch 13/100\n",
      "563/563 [==============================] - 1s 2ms/step - loss: 0.3585 - accuracy: 0.8540 - val_loss: 0.3663 - val_accuracy: 0.8507\n",
      "Epoch 14/100\n",
      "563/563 [==============================] - 1s 2ms/step - loss: 0.3563 - accuracy: 0.8562 - val_loss: 0.3654 - val_accuracy: 0.8512\n",
      "Epoch 15/100\n",
      "563/563 [==============================] - 1s 2ms/step - loss: 0.3545 - accuracy: 0.8555 - val_loss: 0.3648 - val_accuracy: 0.8501\n",
      "Epoch 16/100\n",
      "563/563 [==============================] - 1s 2ms/step - loss: 0.3533 - accuracy: 0.8553 - val_loss: 0.3636 - val_accuracy: 0.8496\n",
      "Epoch 17/100\n",
      "563/563 [==============================] - 1s 2ms/step - loss: 0.3517 - accuracy: 0.8580 - val_loss: 0.3656 - val_accuracy: 0.8491\n",
      "Epoch 18/100\n",
      "563/563 [==============================] - 1s 1ms/step - loss: 0.3505 - accuracy: 0.8574 - val_loss: 0.3647 - val_accuracy: 0.8517\n",
      "Epoch 19/100\n",
      "563/563 [==============================] - 1s 2ms/step - loss: 0.3495 - accuracy: 0.8560 - val_loss: 0.3624 - val_accuracy: 0.8507\n",
      "Epoch 20/100\n",
      "563/563 [==============================] - 1s 2ms/step - loss: 0.3481 - accuracy: 0.8565 - val_loss: 0.3644 - val_accuracy: 0.8523\n",
      "Epoch 21/100\n",
      "563/563 [==============================] - 1s 2ms/step - loss: 0.3480 - accuracy: 0.8569 - val_loss: 0.3610 - val_accuracy: 0.8507\n",
      "Epoch 22/100\n",
      "563/563 [==============================] - 1s 2ms/step - loss: 0.3470 - accuracy: 0.8590 - val_loss: 0.3617 - val_accuracy: 0.8507\n",
      "Epoch 23/100\n",
      "563/563 [==============================] - 1s 2ms/step - loss: 0.3460 - accuracy: 0.8594 - val_loss: 0.3617 - val_accuracy: 0.8501\n",
      "Epoch 24/100\n",
      "563/563 [==============================] - 1s 2ms/step - loss: 0.3455 - accuracy: 0.8585 - val_loss: 0.3609 - val_accuracy: 0.8491\n",
      "Epoch 25/100\n",
      "563/563 [==============================] - 1s 2ms/step - loss: 0.3445 - accuracy: 0.8572 - val_loss: 0.3606 - val_accuracy: 0.8512\n",
      "Epoch 26/100\n",
      "563/563 [==============================] - 1s 2ms/step - loss: 0.3441 - accuracy: 0.8588 - val_loss: 0.3607 - val_accuracy: 0.8517\n",
      "Epoch 27/100\n",
      "563/563 [==============================] - 1s 2ms/step - loss: 0.3438 - accuracy: 0.8597 - val_loss: 0.3598 - val_accuracy: 0.8507\n",
      "Epoch 28/100\n",
      "563/563 [==============================] - 1s 2ms/step - loss: 0.3432 - accuracy: 0.8599 - val_loss: 0.3590 - val_accuracy: 0.8517\n",
      "Epoch 29/100\n",
      "563/563 [==============================] - 1s 2ms/step - loss: 0.3426 - accuracy: 0.8587 - val_loss: 0.3583 - val_accuracy: 0.8501\n",
      "Epoch 30/100\n",
      "563/563 [==============================] - 1s 2ms/step - loss: 0.3420 - accuracy: 0.8588 - val_loss: 0.3592 - val_accuracy: 0.8507\n",
      "Epoch 31/100\n",
      "563/563 [==============================] - 1s 2ms/step - loss: 0.3419 - accuracy: 0.8581 - val_loss: 0.3586 - val_accuracy: 0.8507\n",
      "Epoch 32/100\n",
      "563/563 [==============================] - 1s 2ms/step - loss: 0.3410 - accuracy: 0.8572 - val_loss: 0.3593 - val_accuracy: 0.8523\n",
      "Epoch 33/100\n",
      "563/563 [==============================] - 1s 2ms/step - loss: 0.3413 - accuracy: 0.8587 - val_loss: 0.3583 - val_accuracy: 0.8491\n",
      "Epoch 34/100\n",
      "563/563 [==============================] - 1s 2ms/step - loss: 0.3409 - accuracy: 0.8583 - val_loss: 0.3582 - val_accuracy: 0.8501\n",
      "Epoch 35/100\n",
      "563/563 [==============================] - 1s 2ms/step - loss: 0.3398 - accuracy: 0.8587 - val_loss: 0.3580 - val_accuracy: 0.8496\n",
      "Epoch 36/100\n",
      "563/563 [==============================] - 1s 2ms/step - loss: 0.3399 - accuracy: 0.8580 - val_loss: 0.3583 - val_accuracy: 0.8523\n",
      "Epoch 37/100\n",
      "563/563 [==============================] - 1s 2ms/step - loss: 0.3398 - accuracy: 0.8578 - val_loss: 0.3573 - val_accuracy: 0.8523\n",
      "Epoch 38/100\n",
      "563/563 [==============================] - 1s 2ms/step - loss: 0.3396 - accuracy: 0.8592 - val_loss: 0.3566 - val_accuracy: 0.8523\n",
      "Epoch 39/100\n",
      "563/563 [==============================] - 1s 2ms/step - loss: 0.3388 - accuracy: 0.8585 - val_loss: 0.3572 - val_accuracy: 0.8507\n",
      "Epoch 40/100\n",
      "563/563 [==============================] - 1s 2ms/step - loss: 0.3385 - accuracy: 0.8576 - val_loss: 0.3582 - val_accuracy: 0.8523\n",
      "Epoch 41/100\n",
      "563/563 [==============================] - 1s 2ms/step - loss: 0.3386 - accuracy: 0.8585 - val_loss: 0.3563 - val_accuracy: 0.8533\n",
      "Epoch 42/100\n",
      "563/563 [==============================] - 1s 2ms/step - loss: 0.3382 - accuracy: 0.8578 - val_loss: 0.3567 - val_accuracy: 0.8539\n",
      "Epoch 43/100\n",
      "563/563 [==============================] - 1s 2ms/step - loss: 0.3382 - accuracy: 0.8576 - val_loss: 0.3584 - val_accuracy: 0.8507\n",
      "Epoch 44/100\n",
      "563/563 [==============================] - 1s 2ms/step - loss: 0.3381 - accuracy: 0.8590 - val_loss: 0.3576 - val_accuracy: 0.8528\n",
      "Epoch 45/100\n",
      "563/563 [==============================] - 1s 2ms/step - loss: 0.3378 - accuracy: 0.8581 - val_loss: 0.3585 - val_accuracy: 0.8523\n",
      "Epoch 46/100\n",
      "563/563 [==============================] - 1s 2ms/step - loss: 0.3381 - accuracy: 0.8588 - val_loss: 0.3563 - val_accuracy: 0.8528\n",
      "Epoch 47/100\n",
      "563/563 [==============================] - 1s 2ms/step - loss: 0.3377 - accuracy: 0.8596 - val_loss: 0.3553 - val_accuracy: 0.8539\n",
      "Epoch 48/100\n",
      "563/563 [==============================] - 1s 2ms/step - loss: 0.3375 - accuracy: 0.8599 - val_loss: 0.3559 - val_accuracy: 0.8549\n",
      "Epoch 49/100\n",
      "563/563 [==============================] - 1s 2ms/step - loss: 0.3369 - accuracy: 0.8604 - val_loss: 0.3550 - val_accuracy: 0.8533\n",
      "Epoch 50/100\n",
      "563/563 [==============================] - 1s 1ms/step - loss: 0.3366 - accuracy: 0.8590 - val_loss: 0.3556 - val_accuracy: 0.8560\n",
      "Epoch 51/100\n",
      "563/563 [==============================] - 1s 2ms/step - loss: 0.3365 - accuracy: 0.8592 - val_loss: 0.3555 - val_accuracy: 0.8555\n",
      "Epoch 52/100\n",
      "563/563 [==============================] - 1s 2ms/step - loss: 0.3365 - accuracy: 0.8617 - val_loss: 0.3560 - val_accuracy: 0.8539\n",
      "Epoch 53/100\n",
      "563/563 [==============================] - 1s 2ms/step - loss: 0.3366 - accuracy: 0.8603 - val_loss: 0.3549 - val_accuracy: 0.8544\n",
      "Epoch 54/100\n",
      "563/563 [==============================] - 1s 2ms/step - loss: 0.3370 - accuracy: 0.8606 - val_loss: 0.3555 - val_accuracy: 0.8544\n",
      "Epoch 55/100\n",
      "563/563 [==============================] - 1s 2ms/step - loss: 0.3360 - accuracy: 0.8608 - val_loss: 0.3534 - val_accuracy: 0.8555\n",
      "Epoch 56/100\n",
      "563/563 [==============================] - 1s 1ms/step - loss: 0.3362 - accuracy: 0.8624 - val_loss: 0.3535 - val_accuracy: 0.8560\n",
      "Epoch 57/100\n",
      "563/563 [==============================] - 1s 2ms/step - loss: 0.3358 - accuracy: 0.8587 - val_loss: 0.3533 - val_accuracy: 0.8533\n",
      "Epoch 58/100\n",
      "563/563 [==============================] - 1s 2ms/step - loss: 0.3360 - accuracy: 0.8617 - val_loss: 0.3546 - val_accuracy: 0.8533\n",
      "Epoch 59/100\n",
      "563/563 [==============================] - 1s 2ms/step - loss: 0.3354 - accuracy: 0.8597 - val_loss: 0.3541 - val_accuracy: 0.8544\n",
      "Epoch 60/100\n",
      "563/563 [==============================] - 1s 2ms/step - loss: 0.3346 - accuracy: 0.8613 - val_loss: 0.3546 - val_accuracy: 0.8523\n",
      "Epoch 61/100\n",
      "563/563 [==============================] - 1s 2ms/step - loss: 0.3354 - accuracy: 0.8626 - val_loss: 0.3524 - val_accuracy: 0.8544\n",
      "Epoch 62/100\n",
      "563/563 [==============================] - 1s 2ms/step - loss: 0.3348 - accuracy: 0.8604 - val_loss: 0.3528 - val_accuracy: 0.8533\n",
      "Epoch 63/100\n",
      "563/563 [==============================] - 1s 2ms/step - loss: 0.3350 - accuracy: 0.8626 - val_loss: 0.3531 - val_accuracy: 0.8539\n",
      "Epoch 64/100\n",
      "563/563 [==============================] - 1s 2ms/step - loss: 0.3349 - accuracy: 0.8606 - val_loss: 0.3533 - val_accuracy: 0.8544\n",
      "Epoch 65/100\n",
      "563/563 [==============================] - 1s 2ms/step - loss: 0.3346 - accuracy: 0.8617 - val_loss: 0.3535 - val_accuracy: 0.8539\n",
      "Epoch 66/100\n",
      "563/563 [==============================] - 1s 2ms/step - loss: 0.3345 - accuracy: 0.8613 - val_loss: 0.3538 - val_accuracy: 0.8544\n",
      "Epoch 67/100\n",
      "563/563 [==============================] - 1s 2ms/step - loss: 0.3343 - accuracy: 0.8628 - val_loss: 0.3528 - val_accuracy: 0.8539\n",
      "Epoch 68/100\n",
      "563/563 [==============================] - 1s 2ms/step - loss: 0.3343 - accuracy: 0.8624 - val_loss: 0.3531 - val_accuracy: 0.8523\n",
      "Epoch 69/100\n",
      "563/563 [==============================] - 1s 2ms/step - loss: 0.3350 - accuracy: 0.8617 - val_loss: 0.3527 - val_accuracy: 0.8539\n",
      "Epoch 70/100\n",
      "563/563 [==============================] - 1s 2ms/step - loss: 0.3340 - accuracy: 0.8631 - val_loss: 0.3512 - val_accuracy: 0.8533\n",
      "Epoch 71/100\n",
      "563/563 [==============================] - 1s 1ms/step - loss: 0.3337 - accuracy: 0.8610 - val_loss: 0.3524 - val_accuracy: 0.8549\n",
      "Epoch 72/100\n",
      "563/563 [==============================] - 1s 2ms/step - loss: 0.3342 - accuracy: 0.8612 - val_loss: 0.3513 - val_accuracy: 0.8544\n",
      "Epoch 73/100\n",
      "563/563 [==============================] - 1s 2ms/step - loss: 0.3339 - accuracy: 0.8626 - val_loss: 0.3522 - val_accuracy: 0.8539\n",
      "Epoch 74/100\n",
      "563/563 [==============================] - 1s 2ms/step - loss: 0.3338 - accuracy: 0.8612 - val_loss: 0.3521 - val_accuracy: 0.8528\n",
      "Epoch 75/100\n",
      "563/563 [==============================] - 1s 2ms/step - loss: 0.3340 - accuracy: 0.8606 - val_loss: 0.3517 - val_accuracy: 0.8549\n",
      "Epoch 76/100\n",
      "563/563 [==============================] - 1s 2ms/step - loss: 0.3340 - accuracy: 0.8622 - val_loss: 0.3525 - val_accuracy: 0.8539\n",
      "Epoch 77/100\n",
      "563/563 [==============================] - 1s 2ms/step - loss: 0.3337 - accuracy: 0.8624 - val_loss: 0.3518 - val_accuracy: 0.8517\n",
      "Epoch 78/100\n",
      "563/563 [==============================] - 1s 2ms/step - loss: 0.3335 - accuracy: 0.8624 - val_loss: 0.3523 - val_accuracy: 0.8533\n",
      "Epoch 79/100\n",
      "563/563 [==============================] - 1s 2ms/step - loss: 0.3330 - accuracy: 0.8613 - val_loss: 0.3576 - val_accuracy: 0.8533\n",
      "Epoch 80/100\n",
      "563/563 [==============================] - 1s 2ms/step - loss: 0.3331 - accuracy: 0.8629 - val_loss: 0.3526 - val_accuracy: 0.8539\n",
      "Epoch 81/100\n",
      "563/563 [==============================] - 1s 2ms/step - loss: 0.3329 - accuracy: 0.8628 - val_loss: 0.3533 - val_accuracy: 0.8533\n",
      "Epoch 82/100\n",
      "563/563 [==============================] - 1s 2ms/step - loss: 0.3331 - accuracy: 0.8620 - val_loss: 0.3503 - val_accuracy: 0.8533\n",
      "Epoch 83/100\n",
      "563/563 [==============================] - 1s 2ms/step - loss: 0.3337 - accuracy: 0.8652 - val_loss: 0.3508 - val_accuracy: 0.8523\n",
      "Epoch 84/100\n",
      "563/563 [==============================] - 1s 2ms/step - loss: 0.3334 - accuracy: 0.8626 - val_loss: 0.3508 - val_accuracy: 0.8539\n",
      "Epoch 85/100\n",
      "563/563 [==============================] - 1s 2ms/step - loss: 0.3331 - accuracy: 0.8633 - val_loss: 0.3504 - val_accuracy: 0.8549\n",
      "Epoch 86/100\n",
      "563/563 [==============================] - 1s 2ms/step - loss: 0.3333 - accuracy: 0.8631 - val_loss: 0.3517 - val_accuracy: 0.8555\n",
      "Epoch 87/100\n",
      "563/563 [==============================] - 1s 2ms/step - loss: 0.3332 - accuracy: 0.8620 - val_loss: 0.3524 - val_accuracy: 0.8517\n",
      "Epoch 88/100\n",
      "563/563 [==============================] - 1s 2ms/step - loss: 0.3332 - accuracy: 0.8628 - val_loss: 0.3518 - val_accuracy: 0.8528\n",
      "Epoch 89/100\n",
      "563/563 [==============================] - 1s 2ms/step - loss: 0.3334 - accuracy: 0.8633 - val_loss: 0.3503 - val_accuracy: 0.8544\n",
      "Epoch 90/100\n",
      "563/563 [==============================] - 1s 2ms/step - loss: 0.3318 - accuracy: 0.8620 - val_loss: 0.3526 - val_accuracy: 0.8539\n",
      "Epoch 91/100\n",
      "563/563 [==============================] - 1s 2ms/step - loss: 0.3323 - accuracy: 0.8633 - val_loss: 0.3527 - val_accuracy: 0.8533\n",
      "Epoch 92/100\n",
      "563/563 [==============================] - 1s 1ms/step - loss: 0.3324 - accuracy: 0.8644 - val_loss: 0.3527 - val_accuracy: 0.8517\n",
      "Epoch 93/100\n",
      "563/563 [==============================] - 1s 2ms/step - loss: 0.3327 - accuracy: 0.8628 - val_loss: 0.3504 - val_accuracy: 0.8549\n",
      "Epoch 94/100\n",
      "563/563 [==============================] - 1s 1ms/step - loss: 0.3329 - accuracy: 0.8631 - val_loss: 0.3508 - val_accuracy: 0.8555\n",
      "Epoch 95/100\n",
      "563/563 [==============================] - 1s 1ms/step - loss: 0.3327 - accuracy: 0.8624 - val_loss: 0.3508 - val_accuracy: 0.8539\n",
      "Epoch 96/100\n",
      "563/563 [==============================] - 1s 2ms/step - loss: 0.3331 - accuracy: 0.8622 - val_loss: 0.3509 - val_accuracy: 0.8544\n",
      "Epoch 97/100\n",
      "563/563 [==============================] - 1s 2ms/step - loss: 0.3329 - accuracy: 0.8635 - val_loss: 0.3541 - val_accuracy: 0.8533\n",
      "Epoch 98/100\n",
      "563/563 [==============================] - 1s 2ms/step - loss: 0.3330 - accuracy: 0.8629 - val_loss: 0.3524 - val_accuracy: 0.8533\n",
      "Epoch 99/100\n",
      "563/563 [==============================] - 1s 2ms/step - loss: 0.3325 - accuracy: 0.8629 - val_loss: 0.3510 - val_accuracy: 0.8549\n",
      "Epoch 100/100\n",
      "563/563 [==============================] - 1s 2ms/step - loss: 0.3325 - accuracy: 0.8635 - val_loss: 0.3532 - val_accuracy: 0.8523\n"
     ]
    }
   ],
   "source": [
    "history = classifier.fit(X_train,y_train,batch_size=10,epochs=100,verbose=1,validation_split=0.25)"
   ]
  },
  {
   "cell_type": "code",
   "execution_count": 20,
   "id": "44d46c74",
   "metadata": {
    "execution": {
     "iopub.execute_input": "2022-10-04T06:35:32.487155Z",
     "iopub.status.busy": "2022-10-04T06:35:32.486732Z",
     "iopub.status.idle": "2022-10-04T06:35:32.491952Z",
     "shell.execute_reply": "2022-10-04T06:35:32.490849Z"
    },
    "papermill": {
     "duration": 0.11636,
     "end_time": "2022-10-04T06:35:32.494497",
     "exception": false,
     "start_time": "2022-10-04T06:35:32.378137",
     "status": "completed"
    },
    "tags": []
   },
   "outputs": [
    {
     "name": "stdout",
     "output_type": "stream",
     "text": [
      "dict_keys(['loss', 'accuracy', 'val_loss', 'val_accuracy'])\n"
     ]
    }
   ],
   "source": [
    "# list all data in history\n",
    "\n",
    "print(history.history.keys())"
   ]
  },
  {
   "cell_type": "code",
   "execution_count": 21,
   "id": "e539f714",
   "metadata": {
    "execution": {
     "iopub.execute_input": "2022-10-04T06:35:32.709159Z",
     "iopub.status.busy": "2022-10-04T06:35:32.708420Z",
     "iopub.status.idle": "2022-10-04T06:35:32.906005Z",
     "shell.execute_reply": "2022-10-04T06:35:32.905035Z"
    },
    "papermill": {
     "duration": 0.307742,
     "end_time": "2022-10-04T06:35:32.908829",
     "exception": false,
     "start_time": "2022-10-04T06:35:32.601087",
     "status": "completed"
    },
    "tags": []
   },
   "outputs": [
    {
     "data": {
      "image/png": "[encoded data removed]",
      "text/plain": [
       "<Figure size 432x288 with 1 Axes>"
      ]
     },
     "metadata": {
      "needs_background": "light"
     },
     "output_type": "display_data"
    }
   ],
   "source": [
    "# summarize history for accuracy\n",
    "plt.plot(history.history['accuracy'])\n",
    "plt.plot(history.history['val_accuracy'])\n",
    "plt.title('model accuracy')\n",
    "plt.ylabel('accuracy')\n",
    "plt.xlabel('epoch')\n",
    "plt.legend(['train', 'test'], loc='upper left')\n",
    "plt.show()"
   ]
  },
  {
   "cell_type": "code",
   "execution_count": 22,
   "id": "ef679953",
   "metadata": {
    "execution": {
     "iopub.execute_input": "2022-10-04T06:35:33.122219Z",
     "iopub.status.busy": "2022-10-04T06:35:33.121501Z",
     "iopub.status.idle": "2022-10-04T06:35:33.300815Z",
     "shell.execute_reply": "2022-10-04T06:35:33.299983Z"
    },
    "papermill": {
     "duration": 0.288483,
     "end_time": "2022-10-04T06:35:33.302959",
     "exception": false,
     "start_time": "2022-10-04T06:35:33.014476",
     "status": "completed"
    },
    "tags": []
   },
   "outputs": [
    {
     "data": {
      "image/png": "[encoded data removed]",
      "text/plain": [
       "<Figure size 432x288 with 1 Axes>"
      ]
     },
     "metadata": {
      "needs_background": "light"
     },
     "output_type": "display_data"
    }
   ],
   "source": [
    "# summarize history for loss\n",
    "plt.plot(history.history['loss'])\n",
    "plt.plot(history.history['val_loss'])\n",
    "plt.title('model loss')\n",
    "plt.ylabel('loss')\n",
    "plt.xlabel('epoch')\n",
    "plt.legend(['train', 'test'], loc='upper left')\n",
    "plt.show()"
   ]
  },
  {
   "cell_type": "markdown",
   "id": "30416203",
   "metadata": {
    "papermill": {
     "duration": 0.105167,
     "end_time": "2022-10-04T06:35:33.514081",
     "exception": false,
     "start_time": "2022-10-04T06:35:33.408914",
     "status": "completed"
    },
    "tags": []
   },
   "source": [
    "# Prediction and Accuracy Result"
   ]
  },
  {
   "cell_type": "code",
   "execution_count": 23,
   "id": "0d3bf14e",
   "metadata": {
    "execution": {
     "iopub.execute_input": "2022-10-04T06:35:33.728127Z",
     "iopub.status.busy": "2022-10-04T06:35:33.727394Z",
     "iopub.status.idle": "2022-10-04T06:35:33.915387Z",
     "shell.execute_reply": "2022-10-04T06:35:33.914480Z"
    },
    "papermill": {
     "duration": 0.297729,
     "end_time": "2022-10-04T06:35:33.917716",
     "exception": false,
     "start_time": "2022-10-04T06:35:33.619987",
     "status": "completed"
    },
    "tags": []
   },
   "outputs": [
    {
     "data": {
      "text/plain": [
       "array([[False],\n",
       "       [False],\n",
       "       [ True],\n",
       "       ...,\n",
       "       [False],\n",
       "       [False],\n",
       "       [False]])"
      ]
     },
     "execution_count": 23,
     "metadata": {},
     "output_type": "execute_result"
    }
   ],
   "source": [
    "# predicting the test set result\n",
    "y_pred = classifier.predict(X_test)\n",
    "y_pred = (y_pred>0.5)\n",
    "y_pred"
   ]
  },
  {
   "cell_type": "markdown",
   "id": "9d65d17e",
   "metadata": {
    "papermill": {
     "duration": 0.105487,
     "end_time": "2022-10-04T06:35:34.129730",
     "exception": false,
     "start_time": "2022-10-04T06:35:34.024243",
     "status": "completed"
    },
    "tags": []
   },
   "source": [
    "# Confusion metrics"
   ]
  },
  {
   "cell_type": "code",
   "execution_count": 24,
   "id": "d863c6a8",
   "metadata": {
    "execution": {
     "iopub.execute_input": "2022-10-04T06:35:34.344628Z",
     "iopub.status.busy": "2022-10-04T06:35:34.343857Z",
     "iopub.status.idle": "2022-10-04T06:35:34.352755Z",
     "shell.execute_reply": "2022-10-04T06:35:34.351911Z"
    },
    "papermill": {
     "duration": 0.11934,
     "end_time": "2022-10-04T06:35:34.354924",
     "exception": false,
     "start_time": "2022-10-04T06:35:34.235584",
     "status": "completed"
    },
    "tags": []
   },
   "outputs": [
    {
     "data": {
      "text/plain": [
       "array([[1919,   63],\n",
       "       [ 284,  234]])"
      ]
     },
     "execution_count": 24,
     "metadata": {},
     "output_type": "execute_result"
    }
   ],
   "source": [
    "# Making the Confusion Matrix\n",
    "from sklearn.metrics import confusion_matrix\n",
    "cm = confusion_matrix(y_test, y_pred)\n",
    "cm"
   ]
  },
  {
   "cell_type": "markdown",
   "id": "09ee8e80",
   "metadata": {
    "papermill": {
     "duration": 0.106376,
     "end_time": "2022-10-04T06:35:34.632940",
     "exception": false,
     "start_time": "2022-10-04T06:35:34.526564",
     "status": "completed"
    },
    "tags": []
   },
   "source": [
    "# Score"
   ]
  },
  {
   "cell_type": "code",
   "execution_count": 25,
   "id": "aeeaedd4",
   "metadata": {
    "execution": {
     "iopub.execute_input": "2022-10-04T06:35:34.849716Z",
     "iopub.status.busy": "2022-10-04T06:35:34.848966Z",
     "iopub.status.idle": "2022-10-04T06:35:34.855706Z",
     "shell.execute_reply": "2022-10-04T06:35:34.854969Z"
    },
    "papermill": {
     "duration": 0.117393,
     "end_time": "2022-10-04T06:35:34.857823",
     "exception": false,
     "start_time": "2022-10-04T06:35:34.740430",
     "status": "completed"
    },
    "tags": []
   },
   "outputs": [
    {
     "data": {
      "text/plain": [
       "0.8612"
      ]
     },
     "execution_count": 25,
     "metadata": {},
     "output_type": "execute_result"
    }
   ],
   "source": [
    "from sklearn.metrics import accuracy_score\n",
    "score=accuracy_score(y_pred,y_test)\n",
    "score"
   ]
  },
  {
   "cell_type": "code",
   "execution_count": null,
   "id": "4ebabc12",
   "metadata": {
    "papermill": {
     "duration": 0.105834,
     "end_time": "2022-10-04T06:35:35.070181",
     "exception": false,
     "start_time": "2022-10-04T06:35:34.964347",
     "status": "completed"
    },
    "tags": []
   },
   "outputs": [],
   "source": []
  },
  {
   "cell_type": "code",
   "execution_count": null,
   "id": "8cbba6a4",
   "metadata": {
    "papermill": {
     "duration": 0.107201,
     "end_time": "2022-10-04T06:35:35.284357",
     "exception": false,
     "start_time": "2022-10-04T06:35:35.177156",
     "status": "completed"
    },
    "tags": []
   },
   "outputs": [],
   "source": []
  },
  {
   "cell_type": "code",
   "execution_count": null,
   "id": "abad6296",
   "metadata": {
    "papermill": {
     "duration": 0.105978,
     "end_time": "2022-10-04T06:35:35.497886",
     "exception": false,
     "start_time": "2022-10-04T06:35:35.391908",
     "status": "completed"
    },
    "tags": []
   },
   "outputs": [],
   "source": []
  },
  {
   "cell_type": "code",
   "execution_count": null,
   "id": "3e7b26cb",
   "metadata": {
    "papermill": {
     "duration": 0.105525,
     "end_time": "2022-10-04T06:35:35.709555",
     "exception": false,
     "start_time": "2022-10-04T06:35:35.604030",
     "status": "completed"
    },
    "tags": []
   },
   "outputs": [],
   "source": []
  }
 ],
 "metadata": {
  "kernelspec": {
   "display_name": "Python 3",
   "language": "python",
   "name": "python3"
  },
  "language_info": {
   "codemirror_mode": {
    "name": "ipython",
    "version": 3
   },
   "file_extension": ".py",
   "mimetype": "text/x-python",
   "name": "python",
   "nbconvert_exporter": "python",
   "pygments_lexer": "ipython3",
   "version": "3.7.12"
  },
  "papermill": {
   "default_parameters": {},
   "duration": 166.201974,
   "end_time": "2022-10-04T06:35:38.757712",
   "environment_variables": {},
   "exception": null,
   "input_path": "__notebook__.ipynb",
   "output_path": "__notebook__.ipynb",
   "parameters": {},
   "start_time": "2022-10-04T06:32:52.555738",
   "version": "2.3.4"
  }
 },
 "nbformat": 4,
 "nbformat_minor": 5
}
